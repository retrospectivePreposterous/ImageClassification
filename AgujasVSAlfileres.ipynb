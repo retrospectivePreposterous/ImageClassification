{
 "cells": [
  {
   "cell_type": "code",
   "execution_count": 23,
   "metadata": {},
   "outputs": [],
   "source": [
    "#ITERA SOBRE TODAS LAS IMAGENES JUNTO AL PYTHON Y LAS MULTIPLICA.\n",
    "#HALLAR MODO DE QUE HAGA BÚSQUEDAS RELATIVAS\n",
    "\n",
    "import os\n",
    "from keras.preprocessing.image import ImageDataGenerator, array_to_img, img_to_array, load_img\n",
    "import matplotlib.pyplot as plt\n",
    "\n",
    "def augment (folder):\n",
    "\n",
    "    datagen = ImageDataGenerator(\n",
    "        rotation_range=40,\n",
    "        width_shift_range=0.2,\n",
    "        height_shift_range=0.2,\n",
    "        shear_range=0.2,\n",
    "        zoom_range=0.2,\n",
    "        horizontal_flip=True,\n",
    "        fill_mode='nearest')\n",
    "\n",
    "    aug_folder = './aug_' + folder\n",
    "    if not os.path.exists(aug_folder):\n",
    "        os.makedirs(aug_folder)\n",
    "\n",
    "    for filename in os.listdir('./' + folder + '/'):\n",
    "        if filename.endswith(\".jpg\") or filename.endswith(\".png\"):\n",
    "\n",
    "            img = load_img('./' + folder + '/' + filename)  # this is a PIL image\n",
    "            x = img_to_array(img)  \n",
    "            x = x.reshape((1,) + x.shape)  \n",
    "\n",
    "            # the .flow() command below generates batches of randomly transformed images\n",
    "\n",
    "            it = datagen.flow(x, batch_size=1)\n",
    "            # generate samples and plot\n",
    "            for i in range(20):\n",
    "\n",
    "                # generate batch of images\n",
    "                batch = it.next()\n",
    "                # convert to unsigned integers for viewing\n",
    "                image = batch[0].astype('uint8')\n",
    "                # plot raw pixel data\n",
    "                plt.imsave(aug_folder + '/' +str(i) + str(filename) + \".jpg\",image)\n",
    " \n",
    "    print (\"Data contained in folder \" + folder + \" augmented!\")"
   ]
  },
  {
   "cell_type": "code",
   "execution_count": 24,
   "metadata": {},
   "outputs": [
    {
     "name": "stdout",
     "output_type": "stream",
     "text": [
      "Data contained in folder ALFILER augmented!\n",
      "Data contained in folder AGUJA augmented!\n"
     ]
    }
   ],
   "source": [
    "augment(\"ALFILER\")\n",
    "augment(\"AGUJA\")"
   ]
  }
 ],
 "metadata": {
  "kernelspec": {
   "display_name": "Python 3",
   "language": "python",
   "name": "python3"
  },
  "language_info": {
   "codemirror_mode": {
    "name": "ipython",
    "version": 3
   },
   "file_extension": ".py",
   "mimetype": "text/x-python",
   "name": "python",
   "nbconvert_exporter": "python",
   "pygments_lexer": "ipython3",
   "version": "3.8.5"
  }
 },
 "nbformat": 4,
 "nbformat_minor": 4
}
